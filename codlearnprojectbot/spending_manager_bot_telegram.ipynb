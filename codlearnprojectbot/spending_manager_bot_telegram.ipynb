{
  "cells": [
    {
      "cell_type": "code",
      "execution_count": 3,
      "metadata": {
        "colab": {
          "base_uri": "https://localhost:8080/"
        },
        "id": "PZjBoyamrlrm",
        "outputId": "3c578eb2-be96-4ec1-e6ab-4824546cc4eb"
      },
      "outputs": [],
      "source": [
        "# pip install pyTelegramBotAPI\n",
        "\n",
        "import os\n",
        "import telebot\n",
        "from telebot import types\n",
        "import requests\n",
        "from telebot.types import InlineKeyboardMarkup, InlineKeyboardButton\n",
        "import csv"
      ]
    },
    {
      "cell_type": "code",
      "execution_count": 4,
      "metadata": {},
      "outputs": [
        {
          "name": "stderr",
          "output_type": "stream",
          "text": [
            "2023-04-07 22:01:07,367 (__init__.py:966 MainThread) ERROR - TeleBot: \"Infinity polling: polling exited\"\n",
            "2023-04-07 22:01:07,368 (__init__.py:968 MainThread) ERROR - TeleBot: \"Break infinity polling\"\n"
          ]
        }
      ],
      "source": [
        "bot = telebot.TeleBot(\"5865336962:AAGivavrqXrzplZ-9cydSeixh_XP4fiaGHA\")\n",
        "def gen_markup():\n",
        "    markup = types.ReplyKeyboardMarkup(row_width=2)\n",
        "    itembtn1 = types.KeyboardButton('/forex')\n",
        "    itembtn2 = types.KeyboardButton('/crypto')\n",
        "  \n",
        "    markup.add(itembtn1, itembtn2)\n",
        "\n",
        "    return markup\n",
        "\n",
        "\n",
        "@bot.message_handler(commands=['start'])\n",
        "def start_handler(message):\n",
        "    chat_id = message.chat.id\n",
        "    bot.send_message(chat_id, \"یکی از گزینه های زیر را انتخاب کنید\", reply_markup=gen_markup())\n",
        "\n",
        "\n",
        "@bot.message_handler(commands=['crypto'])\n",
        "def start_handler(message):\n",
        "    chat_id = message.chat.id\n",
        "    response=requests.get('https://api.coingecko.com/api/v3/simple/price?ids=bitcoin&vs_currencies=usd').json()\n",
        "    btcprice=response['bitcoin']['usd']\n",
        "    response=requests.get('https://api.coingecko.com/api/v3/simple/price?ids=ethereum&vs_currencies=usd').json()\n",
        "    ethprice=response['ethereum']['usd']\n",
        "    response=requests.get('https://api.coingecko.com/api/v3/simple/price?ids=ripple&vs_currencies=usd').json()\n",
        "    xrpprice=response['ripple']['usd']\n",
        "    response=requests.get('https://api.coingecko.com/api/v3/simple/price?ids=cardano&vs_currencies=usd').json()\n",
        "    adaprice=response['cardano']['usd']\n",
        "    response=requests.get('https://api.coingecko.com/api/v3/simple/price?ids=dogecoin&vs_currencies=usd').json()\n",
        "    dogeprice=response['dogecoin']['usd']\n",
        "\n",
        "    total=\"BTC\"+\":\"+str(btcprice)+\"usd\"+\"\\n\"+\"ETH\"+\":\"+str(ethprice)+\"usd\"+\"\\n\"+\"XRP\"+\":\"+str(xrpprice)+\"usd\"+\"\\n\"+\"ADA\"+\":\"+str(adaprice)+\"usd\"+\"\\n\"+\"dogecoin\"+\":\"+str(dogeprice)+\"usd\"+\"\\n\"\n",
        "\n",
        "    bot.send_message(chat_id, total, reply_markup=gen_markup())\n",
        "\n",
        "\n",
        "@bot.message_handler(commands=['forex'])\n",
        "def start_handler(message):\n",
        "    chat_id = message.chat.id\n",
        "    \n",
        "    headers = {\n",
        "    'Content-Type': 'application/json'\n",
        "    }\n",
        "    response = requests.get(\"https://api.tiingo.com/tiingo/fx/top?tickers=eurusd,usdjpy,gbpusd,audusd,usdcad&token=6f9ad52cb9bc3d74eeb9d6c81918333beb470e86\", headers=headers).json()\n",
        "\n",
        "    eurusd_bidprice=response[0]['bidPrice']\n",
        "    eurusd_askprice=response[0]['askPrice']\n",
        "    eurusd=\"EURUSD:\"+\"\\n\"+\"  \"+\"bidPric :\"+str(eurusd_bidprice)+\"\\n\"+\"  \"+\"askprice :\"+str(eurusd_askprice)\n",
        "\n",
        "    usdjpy_bidprice=response[1]['bidPrice']\n",
        "    usdjpy_askprice=response[1]['askPrice']\n",
        "    usdjpy=\"USDJPY:\"+\"\\n\"+\"  \"+\"bidPric :\"+str(usdjpy_bidprice)+\"\\n\"+\"  \"+\"askprice :\"+str(usdjpy_askprice)\n",
        "\n",
        "    gbpusd_bidprice=response[2]['bidPrice']\n",
        "    gbpusd_askprice=response[2]['askPrice']\n",
        "    gbpusd=\"GBPUSD:\"+\"\\n\"+\"  \"+\"bidPric :\"+str(gbpusd_bidprice)+\"\\n\"+\"  \"+\"askprice :\"+str(gbpusd_askprice)\n",
        "\n",
        "    audusd_bidprice=response[3]['bidPrice']\n",
        "    audusd_askprice=response[3]['askPrice']\n",
        "    audusd=\"AUDUSD:\"+\"\\n\"+\"  \"+\"bidPric :\"+str(audusd_bidprice)+\"\\n\"+\"  \"+\"askprice :\"+str(audusd_askprice)\n",
        "\n",
        "    usdcad_bidprice=response[4]['bidPrice']\n",
        "    usdcad_askprice=response[4]['askPrice']\n",
        "    usdcad=\"USDCAD:\"+\"\\n\"+\"  \"+\"bidPric :\"+str(usdcad_bidprice)+\"\\n\"+\"  \"+\"askprice :\"+str(usdcad_askprice)\n",
        "\n",
        "    total=eurusd+\"\\n\"+usdjpy+\"\\n\"+gbpusd+\"\\n\"+audusd+\"\\n\"+usdcad\n",
        "\n",
        "    bot.send_message(chat_id, total, reply_markup=gen_markup())\n",
        "\n",
        "\n",
        "bot.enable_save_next_step_handlers(delay=2)\n",
        "\n",
        "bot.load_next_step_handlers()\n",
        "\n",
        "bot.infinity_polling()    "
      ]
    }
  ],
  "metadata": {
    "colab": {
      "provenance": []
    },
    "kernelspec": {
      "display_name": "Python 3",
      "language": "python",
      "name": "python3"
    },
    "language_info": {
      "codemirror_mode": {
        "name": "ipython",
        "version": 3
      },
      "file_extension": ".py",
      "mimetype": "text/x-python",
      "name": "python",
      "nbconvert_exporter": "python",
      "pygments_lexer": "ipython3",
      "version": "3.8.0"
    },
    "vscode": {
      "interpreter": {
        "hash": "5e76bc32cd26b44ed9b2fd26d72c460b6b32329b27b0412488aa2336ff5fe43d"
      }
    }
  },
  "nbformat": 4,
  "nbformat_minor": 0
}
